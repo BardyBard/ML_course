{
 "cells": [
  {
   "cell_type": "code",
   "id": "initial_id",
   "metadata": {
    "collapsed": true,
    "ExecuteTime": {
     "end_time": "2025-09-25T16:32:01.065087Z",
     "start_time": "2025-09-25T16:31:57.844655Z"
    }
   },
   "source": [
    "import random\n",
    "\n",
    "from implementations import *\n",
    "from helpers import *\n",
    "import pandas as pd\n",
    "\n",
    "path_to_dataset = \"data/dataset\"\n",
    "x_train, x_test, y_train, train_ids, test_ids = load_csv_data(\n",
    "    path_to_dataset, max_rows=600, max_features = 50, NaNstrat=\"fill\")\n",
    "\n",
    "tx = preprocess(x_train)\n"
   ],
   "outputs": [],
   "execution_count": 1
  },
  {
   "metadata": {
    "ExecuteTime": {
     "end_time": "2025-09-24T22:24:17.387310Z",
     "start_time": "2025-09-24T22:24:17.376873Z"
    }
   },
   "cell_type": "code",
   "source": [
    "# try some parameters\n",
    "w0 = np.zeros(tx.shape[1])\n",
    "max_iters = 100\n",
    "gamma = .1 # empirically these gamma values seems to work alright -M\n",
    "gamma_sgd = .001\n",
    "gamma_logistic = .001\n",
    "lambda_ = .1 # I guess the regularization param in ridge doesn't have to be very big for standardized data -M\n",
    "random.seed(130)\n",
    "\n",
    "w1, loss1 = mean_squared_error_gd(y_train, tx, w0, max_iters, gamma)\n",
    "w1, loss1"
   ],
   "id": "68b00638c926c2a9",
   "outputs": [
    {
     "data": {
      "text/plain": [
       "(array([-0.83686427,  0.0083245 , -0.04343379,  0.01159957,  0.01185762,\n",
       "        -0.01113456, -0.01581793,  0.01472721, -0.00596273, -0.00596273,\n",
       "         0.00998708, -0.01696817, -0.00255677,  0.02941874, -0.03553443,\n",
       "        -0.03329855,  0.01621032, -0.0075928 , -0.03399278,  0.04186017,\n",
       "        -0.02401653,  0.01421702,  0.00549861, -0.01210282, -0.0182566 ,\n",
       "         0.004063  ,  0.02000395, -0.02269618, -0.05067293, -0.02080326,\n",
       "        -0.02152795, -0.02025917, -0.0260846 ,  0.01172899, -0.01458552,\n",
       "        -0.00392124, -0.05115114, -0.09825953, -0.07660251, -0.01900741,\n",
       "        -0.06074935, -0.13167512,  0.00177371]),\n",
       " np.float64(0.12227898397573393))"
      ]
     },
     "execution_count": 32,
     "metadata": {},
     "output_type": "execute_result"
    }
   ],
   "execution_count": 32
  },
  {
   "metadata": {
    "ExecuteTime": {
     "end_time": "2025-09-24T22:24:07.294118Z",
     "start_time": "2025-09-24T22:24:07.285115Z"
    }
   },
   "cell_type": "code",
   "source": [
    "# try some parameters\n",
    "w0 = np.zeros(tx.shape[1])\n",
    "max_iters = 100\n",
    "gamma = .1 # empirically these gamma values seems to work alright -M\n",
    "gamma_sgd = .001\n",
    "gamma_logistic = .001\n",
    "lambda_ = .1 # I guess the regularization param in ridge doesn't have to be very big for standardized data -M\n",
    "random.seed(130)\n",
    "\n",
    "w2, loss2 = mean_squared_error_sgd(y_train, tx, w0, max_iters, gamma_sgd)\n",
    "w2, loss2"
   ],
   "id": "1ba5eac799751b87",
   "outputs": [],
   "execution_count": 28
  },
  {
   "metadata": {
    "ExecuteTime": {
     "end_time": "2025-09-24T22:24:09.633436Z",
     "start_time": "2025-09-24T22:24:09.602968Z"
    }
   },
   "cell_type": "code",
   "source": [
    "# try some parameters\n",
    "w0 = np.zeros(tx.shape[1])\n",
    "max_iters = 100\n",
    "gamma = .1 # empirically these gamma values seems to work alright -M\n",
    "gamma_sgd = .001\n",
    "gamma_logistic = .001\n",
    "lambda_ = .1 # I guess the regularization param in ridge doesn't have to be very big for standardized data -M\n",
    "random.seed(130)\n",
    "\n",
    "w3, loss3 = least_squares(y_train, tx)\n",
    "w3, loss3"
   ],
   "id": "c64ee5eb195bac3f",
   "outputs": [],
   "execution_count": 29
  },
  {
   "metadata": {
    "ExecuteTime": {
     "end_time": "2025-09-24T22:24:11.757617Z",
     "start_time": "2025-09-24T22:24:11.748267Z"
    }
   },
   "cell_type": "code",
   "source": [
    "# try some parameters\n",
    "w0 = np.zeros(tx.shape[1])\n",
    "max_iters = 100\n",
    "gamma = .1 # empirically these gamma values seems to work alright -M\n",
    "gamma_sgd = .001\n",
    "gamma_logistic = .001\n",
    "lambda_ = .1 # I guess the regularization param in ridge doesn't have to be very big for standardized data -M\n",
    "random.seed(130)\n",
    "\n",
    "w4, loss4 = ridge_regression(y_train, tx, lambda_)\n",
    "w4, loss4"
   ],
   "id": "8b7eb1dad969821f",
   "outputs": [],
   "execution_count": 30
  },
  {
   "metadata": {
    "ExecuteTime": {
     "end_time": "2025-09-24T22:24:36.224623Z",
     "start_time": "2025-09-24T22:24:36.215097Z"
    }
   },
   "cell_type": "code",
   "source": [
    "# try some parameters\n",
    "w0 = np.zeros(tx.shape[1])\n",
    "max_iters = 100\n",
    "gamma = .1 # empirically these gamma values seems to work alright -M\n",
    "gamma_sgd = .001\n",
    "gamma_logistic = .001\n",
    "lambda_ = .1 # I guess the regularization param in ridge doesn't have to be very big for standardized data -M\n",
    "random.seed(130)\n",
    "\n",
    "w5, loss5 = logistic_regression(y_train, tx, w0, max_iters, gamma_logistic)\n",
    "w5, loss5"
   ],
   "id": "7b7619d30961f194",
   "outputs": [
    {
     "data": {
      "text/plain": [
       "(array([-0.13103059, -0.00018803, -0.00266867, -0.001835  , -0.00177419,\n",
       "        -0.00243514,  0.00508171,  0.00103897, -0.00448067, -0.00448067,\n",
       "         0.00394593, -0.00085379, -0.00235129, -0.00104427, -0.00274872,\n",
       "        -0.00256098,  0.00725424, -0.00253678,  0.00382468,  0.0137459 ,\n",
       "        -0.00744334, -0.00105411, -0.00396212,  0.00345953, -0.0024013 ,\n",
       "         0.00232598, -0.00305304, -0.01226585, -0.00616175,  0.00089173,\n",
       "        -0.00546406, -0.00190282, -0.00300438, -0.00061382,  0.00302349,\n",
       "        -0.00163729, -0.00817951, -0.00304795, -0.01129642, -0.00206288,\n",
       "         0.00163454, -0.01789493,  0.00145748]),\n",
       " np.float64(0.6351446132533503))"
      ]
     },
     "execution_count": 33,
     "metadata": {},
     "output_type": "execute_result"
    }
   ],
   "execution_count": 33
  }
 ],
 "metadata": {
  "kernelspec": {
   "display_name": "Python 3",
   "language": "python",
   "name": "python3"
  },
  "language_info": {
   "codemirror_mode": {
    "name": "ipython",
    "version": 2
   },
   "file_extension": ".py",
   "mimetype": "text/x-python",
   "name": "python",
   "nbconvert_exporter": "python",
   "pygments_lexer": "ipython2",
   "version": "2.7.6"
  }
 },
 "nbformat": 4,
 "nbformat_minor": 5
}
